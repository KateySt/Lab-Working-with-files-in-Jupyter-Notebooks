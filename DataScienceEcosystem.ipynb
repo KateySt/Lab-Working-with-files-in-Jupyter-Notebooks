{
  "metadata": {
    "kernelspec": {
      "name": "python",
      "display_name": "Python (Pyodide)",
      "language": "python"
    },
    "language_info": {
      "codemirror_mode": {
        "name": "python",
        "version": 3
      },
      "file_extension": ".py",
      "mimetype": "text/x-python",
      "name": "python",
      "nbconvert_exporter": "python",
      "pygments_lexer": "ipython3",
      "version": "3.8"
    }
  },
  "nbformat_minor": 5,
  "nbformat": 4,
  "cells": [
    {
      "id": "d0b5673c-f3ee-46b5-b284-61b3091e27ae",
      "cell_type": "markdown",
      "source": "# Data Science Tools and Ecosystem",
      "metadata": {}
    },
    {
      "id": "1d000185-4d39-4886-a4ff-a0d30898d822",
      "cell_type": "markdown",
      "source": "In this notebook, Data Science Tools and Ecosystem are summarized.",
      "metadata": {}
    },
    {
      "id": "c62742a1-4d87-4d68-9399-5638a06bd47c",
      "cell_type": "code",
      "source": "markdown_cell = \"\"\"\nSome of the popular languages that Data Scientists use are:\n1. Python\n2. R\n3. SQL\n4. Julia\n5. Scala\n\"\"\"\n\nprint(markdown_cell)",
      "metadata": {
        "trusted": true
      },
      "outputs": [
        {
          "name": "stdout",
          "text": "\nSome of the popular languages that Data Scientists use are:\n1. Python\n2. R\n3. SQL\n4. Julia\n5. Scala\n\n",
          "output_type": "stream"
        }
      ],
      "execution_count": 5
    },
    {
      "id": "432bc673-da82-4c12-ac0d-1a2c42c2aba1",
      "cell_type": "code",
      "source": "markdown_cell_content = \"\"\"\nSome of the commonly used libraries used by Data Scientists include:\n\n1. NumPy\n2. Pandas\n3. Scikit-learn\n4. TensorFlow\n5. Matplotlib\n\"\"\"\nprint(markdown_cell_content)\n",
      "metadata": {
        "trusted": true
      },
      "outputs": [
        {
          "name": "stdout",
          "text": "\nSome of the commonly used libraries used by Data Scientists include:\n\n1. NumPy\n2. Pandas\n3. Scikit-learn\n4. TensorFlow\n5. Matplotlib\n\n",
          "output_type": "stream"
        }
      ],
      "execution_count": 6
    },
    {
      "id": "65ab3472-8c72-4f3d-8253-8228f1a3484d",
      "cell_type": "code",
      "source": "markdown_cell_content = \"\"\"\n| Data Science Tools|\n|-------------------|\n| Jupyter Notebooks |\n| RStudio           |\n| Spyder            |\n\"\"\"\nprint(markdown_cell_content)\n",
      "metadata": {
        "trusted": true
      },
      "outputs": [
        {
          "name": "stdout",
          "text": "\n| Data Science Tools|\n|-------------------|\n| Jupyter Notebooks |\n| RStudio           |\n| Spyder            |\n\n",
          "output_type": "stream"
        }
      ],
      "execution_count": 9
    },
    {
      "id": "df7d3203-fc8d-4dfd-a9f1-d8f37025dd2c",
      "cell_type": "markdown",
      "source": "### Below are a few examples of evaluating arithmetic expressions in Python:",
      "metadata": {}
    },
    {
      "id": "6b7b57ce-e078-4908-81f3-414a210eb876",
      "cell_type": "code",
      "source": "a = 5\nb = 3\nresult = a + b\nprint(f\"Addition: {a} + {b} = {result}\")",
      "metadata": {
        "trusted": true
      },
      "outputs": [
        {
          "name": "stdout",
          "text": "Addition: 5 + 3 = 8\n",
          "output_type": "stream"
        }
      ],
      "execution_count": 17
    },
    {
      "id": "16946040-04c1-4eed-823b-b47b49ba6417",
      "cell_type": "markdown",
      "source": "# This is a simple arithmetic expression to multiply then add integers.",
      "metadata": {}
    },
    {
      "id": "c6c727a0-9c34-413c-a0e8-dfd3e7e91024",
      "cell_type": "code",
      "source": "result = (3 * 4) + 5\nprint(result)",
      "metadata": {
        "trusted": true
      },
      "outputs": [
        {
          "name": "stdout",
          "text": "17\n",
          "output_type": "stream"
        }
      ],
      "execution_count": null
    },
    {
      "id": "789730bb-24ab-44dd-a9a0-824c2f3cf32d",
      "cell_type": "markdown",
      "source": "# This will convert 200 minutes to hours by dividing by 60.",
      "metadata": {}
    },
    {
      "id": "37fcd610-d00c-4335-babe-320b813811f2",
      "cell_type": "code",
      "source": "minutes = 200\nhours = minutes / 60\nhours",
      "metadata": {
        "trusted": true
      },
      "outputs": [
        {
          "execution_count": 20,
          "output_type": "execute_result",
          "data": {
            "text/plain": "3.3333333333333335"
          },
          "metadata": {}
        }
      ],
      "execution_count": 20
    },
    {
      "id": "cc8646bb-9375-4b6b-acbf-dc2dc3bbb015",
      "cell_type": "markdown",
      "source": "\n**Objectives:**\n\n- List popular languages for Data Science.\n- Explain basic data visualization techniques.\n- Introduce machine learning concepts.\n",
      "metadata": {}
    },
    {
      "id": "29765ef5-9eb2-4f86-9b51-b3227a04673e",
      "cell_type": "markdown",
      "source": "## Author\nStetsenko K",
      "metadata": {}
    },
    {
      "id": "5b21a340-46e9-4080-8d43-071c2109ae89",
      "cell_type": "code",
      "source": "",
      "metadata": {
        "trusted": true
      },
      "outputs": [],
      "execution_count": null
    }
  ]
}